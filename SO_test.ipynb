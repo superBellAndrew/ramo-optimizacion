{
  "cells": [
    {
      "cell_type": "code",
      "execution_count": 6,
      "metadata": {
        "colab": {
          "base_uri": "https://localhost:8080/"
        },
        "id": "7P8hqjJ6vl0g",
        "outputId": "c314ed80-8a79-40ae-c0b4-0f14ea5f2988"
      },
      "outputs": [],
      "source": [
        "from RSA import RSA\n",
        "import numpy as np\n",
        "import benchmark_functions as bf\n",
        "from mealpy.swarm_based.PSO import OriginalPSO\n",
        "from mealpy.math_based.SCA import BaseSCA\n",
        "from mealpy.evolutionary_based.GA import BaseGA\n",
        "from tqdm import tqdm\n",
        "import pandas as pd\n",
        "import pickle"
      ]
    },
    {
      "cell_type": "code",
      "execution_count": 21,
      "metadata": {
        "id": "RLWDe49LMNvl"
      },
      "outputs": [],
      "source": [
        "# PARAMETROS COMUNES\n",
        "\n",
        "epochs = 1000\n",
        "pop_size = 100\n",
        "dims = 5\n",
        "\n",
        "funciones = [\n",
        "  bf.Schwefel(n_dimensions=dims),\n",
        "  bf.Ackley(n_dimensions=dims),\n",
        "  bf.Michalewicz(n_dimensions=dims),\n",
        "  bf.Rastrigin(n_dimensions=dims),\n",
        "  bf.Rosenbrock(n_dimensions=dims),\n",
        "  bf.DeJong3(n_dimensions=dims),\n",
        "  bf.StyblinskiTang(n_dimensions=dims),\n",
        "  bf.EggHolder(n_dimensions=dims),\n",
        "  bf.Rana(n_dimensions=dims),\n",
        "]\n",
        "\n",
        "algorithms = [\n",
        "    RSA,\n",
        "    OriginalPSO,\n",
        "    BaseSCA,\n",
        "    BaseGA\n",
        "]"
      ]
    },
    {
      "cell_type": "code",
      "execution_count": 18,
      "metadata": {},
      "outputs": [
        {
          "name": "stdout",
          "output_type": "stream",
          "text": [
            "               Funcion  alpha   beta\n",
            "0             Schwefel  0.050  0.005\n",
            "1               Ackley  0.005  0.001\n",
            "2          Michalewicz  0.100  0.050\n",
            "3            Rastrigin  0.005  0.001\n",
            "4           Rosenbrock  0.100  0.001\n",
            "5            De Jong 3  0.005  0.500\n",
            "6  Styblinski and Tang  0.050  0.010\n",
            "7           Egg Holder  0.010  0.100\n",
            "8                 Rana  0.010  0.100\n"
          ]
        }
      ],
      "source": [
        "try:\n",
        "    with open('tuning.pickle','rb') as f:\n",
        "        best_params = pickle.load(f)\n",
        "    print(best_params)\n",
        "except:\n",
        "    print('No hay archivo tunig')"
      ]
    },
    {
      "cell_type": "code",
      "execution_count": 22,
      "metadata": {
        "colab": {
          "base_uri": "https://localhost:8080/"
        },
        "id": "_gEddmO06b5e",
        "outputId": "21350213-9668-4cd8-f17a-22b32af2762b"
      },
      "outputs": [
        {
          "name": "stderr",
          "output_type": "stream",
          "text": [
            "100%|██████████| 9/9 [00:25<00:00,  2.89s/it]\n"
          ]
        }
      ],
      "source": [
        "resultados_min = []\n",
        "resultados_mean = []\n",
        "\n",
        "for func in tqdm(funciones):\n",
        "  fila_min = [func.name()]\n",
        "  fila_mean = [func.name()]\n",
        "\n",
        "  LB,UB = func.suggested_bounds()\n",
        "  problem = {\n",
        "      \"fit_func\": func,\n",
        "      \"lb\": LB,\n",
        "      \"ub\": UB,\n",
        "      \"minmax\": \"min\",\n",
        "      \"log_to\": None,\n",
        "      \"save_population\": False,\n",
        "      \"verbose\": False\n",
        "  }\n",
        "\n",
        "  # Parametros tuneados\n",
        "  if type(best_params) == pd.core.frame.DataFrame:\n",
        "    alpha = best_params[best_params['Funcion']==func.name()]['alpha'].values[0]\n",
        "    beta = best_params[best_params['Funcion']==func.name()]['beta'].values[0]\n",
        "  else:\n",
        "    alpha = 0.1\n",
        "    beta = 0.1\n",
        "\n",
        "  for optimizer in algorithms:\n",
        "    r = []\n",
        "    for i in range(10):\n",
        "      if model.name=='RSA':\n",
        "        model = optimizer(epochs,pop_size,alpha=alpha,beta=beta)\n",
        "      else:\n",
        "        model = optimizer(epochs,pop_size)\n",
        "      \n",
        "      best_position, best_fitness = model.solve(problem)\n",
        "      r.append(best_fitness)\n",
        "    fila_min.append(np.min(r))\n",
        "    fila_mean.append(np.mean(r))\n",
        "\n",
        "  # FINAL\n",
        "  resultados_min.append(fila_min)\n",
        "  resultados_mean.append(fila_mean)\n"
      ]
    },
    {
      "cell_type": "code",
      "execution_count": 23,
      "metadata": {},
      "outputs": [
        {
          "data": {
            "text/html": [
              "<div>\n",
              "<style scoped>\n",
              "    .dataframe tbody tr th:only-of-type {\n",
              "        vertical-align: middle;\n",
              "    }\n",
              "\n",
              "    .dataframe tbody tr th {\n",
              "        vertical-align: top;\n",
              "    }\n",
              "\n",
              "    .dataframe thead th {\n",
              "        text-align: right;\n",
              "    }\n",
              "</style>\n",
              "<table border=\"1\" class=\"dataframe\">\n",
              "  <thead>\n",
              "    <tr style=\"text-align: right;\">\n",
              "      <th></th>\n",
              "      <th>Function</th>\n",
              "      <th>RSA</th>\n",
              "      <th>PSO</th>\n",
              "      <th>SCA</th>\n",
              "      <th>GA</th>\n",
              "    </tr>\n",
              "  </thead>\n",
              "  <tbody>\n",
              "    <tr>\n",
              "      <th>0</th>\n",
              "      <td>Schwefel</td>\n",
              "      <td>806.347013</td>\n",
              "      <td>899.994358</td>\n",
              "      <td>903.283033</td>\n",
              "      <td>212.008790</td>\n",
              "    </tr>\n",
              "    <tr>\n",
              "      <th>1</th>\n",
              "      <td>Ackley</td>\n",
              "      <td>0.001207</td>\n",
              "      <td>13.757842</td>\n",
              "      <td>11.528075</td>\n",
              "      <td>8.409196</td>\n",
              "    </tr>\n",
              "    <tr>\n",
              "      <th>2</th>\n",
              "      <td>Michalewicz</td>\n",
              "      <td>-3.330299</td>\n",
              "      <td>-2.510940</td>\n",
              "      <td>-2.539250</td>\n",
              "      <td>-4.349953</td>\n",
              "    </tr>\n",
              "    <tr>\n",
              "      <th>3</th>\n",
              "      <td>Rastrigin</td>\n",
              "      <td>0.000011</td>\n",
              "      <td>27.823264</td>\n",
              "      <td>26.383153</td>\n",
              "      <td>7.418809</td>\n",
              "    </tr>\n",
              "    <tr>\n",
              "      <th>4</th>\n",
              "      <td>Rosenbrock</td>\n",
              "      <td>3.901688</td>\n",
              "      <td>34.265117</td>\n",
              "      <td>30.098951</td>\n",
              "      <td>13.058309</td>\n",
              "    </tr>\n",
              "    <tr>\n",
              "      <th>5</th>\n",
              "      <td>De Jong 3</td>\n",
              "      <td>-19.000000</td>\n",
              "      <td>-20.000000</td>\n",
              "      <td>-18.600000</td>\n",
              "      <td>-20.000000</td>\n",
              "    </tr>\n",
              "    <tr>\n",
              "      <th>6</th>\n",
              "      <td>Styblinski and Tang</td>\n",
              "      <td>-171.567871</td>\n",
              "      <td>-158.475824</td>\n",
              "      <td>-158.637384</td>\n",
              "      <td>-189.810084</td>\n",
              "    </tr>\n",
              "    <tr>\n",
              "      <th>7</th>\n",
              "      <td>Egg Holder</td>\n",
              "      <td>-1798.273049</td>\n",
              "      <td>-2044.559883</td>\n",
              "      <td>-2069.359743</td>\n",
              "      <td>-2553.304702</td>\n",
              "    </tr>\n",
              "    <tr>\n",
              "      <th>8</th>\n",
              "      <td>Rana</td>\n",
              "      <td>-1158.180267</td>\n",
              "      <td>-1679.743056</td>\n",
              "      <td>-1531.899998</td>\n",
              "      <td>-1567.621595</td>\n",
              "    </tr>\n",
              "  </tbody>\n",
              "</table>\n",
              "</div>"
            ],
            "text/plain": [
              "              Function          RSA          PSO          SCA           GA\n",
              "0             Schwefel   806.347013   899.994358   903.283033   212.008790\n",
              "1               Ackley     0.001207    13.757842    11.528075     8.409196\n",
              "2          Michalewicz    -3.330299    -2.510940    -2.539250    -4.349953\n",
              "3            Rastrigin     0.000011    27.823264    26.383153     7.418809\n",
              "4           Rosenbrock     3.901688    34.265117    30.098951    13.058309\n",
              "5            De Jong 3   -19.000000   -20.000000   -18.600000   -20.000000\n",
              "6  Styblinski and Tang  -171.567871  -158.475824  -158.637384  -189.810084\n",
              "7           Egg Holder -1798.273049 -2044.559883 -2069.359743 -2553.304702\n",
              "8                 Rana -1158.180267 -1679.743056 -1531.899998 -1567.621595"
            ]
          },
          "execution_count": 23,
          "metadata": {},
          "output_type": "execute_result"
        }
      ],
      "source": [
        "df_mean = pd.DataFrame(data=resultados_mean,columns=['Function','RSA','PSO','SCA','GA'])\n",
        "df_mean"
      ]
    },
    {
      "cell_type": "code",
      "execution_count": 24,
      "metadata": {},
      "outputs": [
        {
          "data": {
            "text/plain": [
              "RSA    3\n",
              "PSO    2\n",
              "SCA    0\n",
              "GA     5\n",
              "dtype: int64"
            ]
          },
          "execution_count": 24,
          "metadata": {},
          "output_type": "execute_result"
        }
      ],
      "source": [
        "cols = ['RSA','PSO','SCA','GA']\n",
        "min = df_mean[cols].min(axis=1)\n",
        "df2 = pd.DataFrame()\n",
        "for col in cols:\n",
        "    df2[col] = df_mean[col] == min\n",
        "df2.sum()\n"
      ]
    }
  ],
  "metadata": {
    "colab": {
      "provenance": []
    },
    "kernelspec": {
      "display_name": "Python 3",
      "name": "python3"
    },
    "language_info": {
      "codemirror_mode": {
        "name": "ipython",
        "version": 3
      },
      "file_extension": ".py",
      "mimetype": "text/x-python",
      "name": "python",
      "nbconvert_exporter": "python",
      "pygments_lexer": "ipython3",
      "version": "3.10.6"
    }
  },
  "nbformat": 4,
  "nbformat_minor": 0
}
